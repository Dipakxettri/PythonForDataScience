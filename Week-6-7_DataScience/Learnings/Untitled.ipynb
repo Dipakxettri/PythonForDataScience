{
 "cells": [
  {
   "cell_type": "code",
   "execution_count": 29,
   "id": "7265f0d9-1fd2-4f67-a733-ebff1906f984",
   "metadata": {},
   "outputs": [
    {
     "ename": "ModuleNotFoundError",
     "evalue": "No module named 'matplotlib'",
     "output_type": "error",
     "traceback": [
      "\u001b[31m---------------------------------------------------------------------------\u001b[39m",
      "\u001b[31mModuleNotFoundError\u001b[39m                       Traceback (most recent call last)",
      "\u001b[36mCell\u001b[39m\u001b[36m \u001b[39m\u001b[32mIn[29]\u001b[39m\u001b[32m, line 2\u001b[39m\n\u001b[32m      1\u001b[39m \u001b[38;5;28;01mimport\u001b[39;00m\u001b[38;5;250m \u001b[39m\u001b[34;01mnumpy\u001b[39;00m \n\u001b[32m----> \u001b[39m\u001b[32m2\u001b[39m \u001b[38;5;28;01mimport\u001b[39;00m\u001b[38;5;250m \u001b[39m\u001b[34;01mmatplotlib\u001b[39;00m\u001b[34;01m.\u001b[39;00m\u001b[34;01mpyplot\u001b[39;00m\u001b[38;5;250m \u001b[39m\u001b[38;5;28;01mas\u001b[39;00m\u001b[38;5;250m \u001b[39m\u001b[34;01mplt\u001b[39;00m\n",
      "\u001b[31mModuleNotFoundError\u001b[39m: No module named 'matplotlib'"
     ]
    }
   ],
   "source": [
    "import numpy \n",
    "import matplotlib.pyplot as plt"
   ]
  },
  {
   "cell_type": "markdown",
   "id": "052ccfe9-bfd3-464b-a62d-9c9d04b76217",
   "metadata": {},
   "source": [
    "## Indexcing and slicing "
   ]
  },
  {
   "cell_type": "code",
   "execution_count": 8,
   "id": "c18239ee-72f7-4191-abae-5aa9233f8b36",
   "metadata": {},
   "outputs": [
    {
     "name": "stdout",
     "output_type": "stream",
     "text": [
      "1\n",
      "[1 2]\n",
      "[1 3]\n"
     ]
    }
   ],
   "source": [
    "array = numpy.array([1,2,3,4])\n",
    "print(array[0]) #index\n",
    "print(array[0:2]) # slice\n",
    "print(array[0::2]) # step"
   ]
  },
  {
   "cell_type": "code",
   "execution_count": 17,
   "id": "cd817faa-9c43-411d-a80f-5c0d86805d35",
   "metadata": {},
   "outputs": [
    {
     "name": "stdout",
     "output_type": "stream",
     "text": [
      "1\n",
      "[1 2]\n",
      "[1 3]\n"
     ]
    }
   ],
   "source": [
    "array2D = numpy.array([[1,2],\n",
    "                     [3,4]])\n",
    "print(array2D[0,0]) # indexing in 2d array\n",
    "print(array2D[0]) # accessing entire row\n",
    "print(array2D[:,0]) # accessing entire column"
   ]
  },
  {
   "cell_type": "markdown",
   "id": "2c3b5f36-d900-46f5-9680-2828a373cdf7",
   "metadata": {},
   "source": [
    "## Sorting "
   ]
  },
  {
   "cell_type": "code",
   "execution_count": 24,
   "id": "3da475b2-0ce0-4c44-9462-b738237e60f8",
   "metadata": {},
   "outputs": [
    {
     "name": "stdout",
     "output_type": "stream",
     "text": [
      "[ 1  2  4  5  7  8  9 10 20]\n",
      "[[1 2]\n",
      " [3 4]]\n"
     ]
    }
   ],
   "source": [
    "unsorted = numpy.array([1,9,8,5,4,2,7,10,20])\n",
    "print(numpy.sort(unsorted)) # sort array 1D array\n",
    "unsorted2D = numpy.array([[1,2],\n",
    "                        [3,4]])\n",
    "print(numpy.sort(unsorted2D, axis = 0)) # sort 2D array using axis"
   ]
  },
  {
   "cell_type": "markdown",
   "id": "168b0868-fa94-4425-b047-e770331aa7ab",
   "metadata": {},
   "source": [
    "## Filter"
   ]
  },
  {
   "cell_type": "code",
   "execution_count": 26,
   "id": "d8d29ff0-a5e0-4a5f-b563-27f4dd62f4bc",
   "metadata": {},
   "outputs": [
    {
     "name": "stdout",
     "output_type": "stream",
     "text": [
      "[2 4 6 8]\n"
     ]
    }
   ],
   "source": [
    "numbers = numpy.array([1,2,3,4,5,6,7,8])\n",
    "evenNums = numbers[numbers % 2 == 0]\n",
    "print(evenNums)\n"
   ]
  },
  {
   "cell_type": "markdown",
   "id": "14c38796-d1ac-4157-8683-fa4cdff2fba9",
   "metadata": {},
   "source": [
    "## Filter with mask"
   ]
  },
  {
   "cell_type": "code",
   "execution_count": 29,
   "id": "a04a9c78-4266-406b-9917-924ec8af5cd5",
   "metadata": {},
   "outputs": [
    {
     "name": "stdout",
     "output_type": "stream",
     "text": [
      "[3 4 5 6 7 8]\n"
     ]
    }
   ],
   "source": [
    "mask = numbers > 2\n",
    "# mask is storing true,false\n",
    "print(numbers[mask])"
   ]
  },
  {
   "cell_type": "markdown",
   "id": "46e1b13c-e92d-4178-80f2-58ecbbb3bcc0",
   "metadata": {},
   "source": [
    "## Fancy indexing vs np.where()\n"
   ]
  },
  {
   "cell_type": "code",
   "execution_count": 32,
   "id": "9467dd43-496d-4f4b-a0bb-5281bbac67a6",
   "metadata": {},
   "outputs": [
    {
     "name": "stdout",
     "output_type": "stream",
     "text": [
      "[2 3 4 5]\n",
      "[3 4 5 6 7 8]\n"
     ]
    }
   ],
   "source": [
    "indices = [1,2,3,4]\n",
    "print(numbers[indices]) # fancy indexing \n",
    "\n",
    "whereResult = numpy.where(numbers > 2)  #where\n",
    "# where is storing a array indices\n",
    "print(numbers[whereResult])"
   ]
  },
  {
   "cell_type": "markdown",
   "id": "2fd31bcc-de2f-42ec-932f-b809eaa7469b",
   "metadata": {},
   "source": [
    "## Conditions "
   ]
  },
  {
   "cell_type": "code",
   "execution_count": 10,
   "id": "cb572f80-db72-4285-a62a-94d4ba5da3a6",
   "metadata": {},
   "outputs": [],
   "source": [
    "#condition_array = numpy.where(numbers > 5)"
   ]
  },
  {
   "cell_type": "markdown",
   "id": "9f234524-16a2-421d-b6b5-00f0cea29817",
   "metadata": {},
   "source": [
    "## Adding and Removing Data"
   ]
  },
  {
   "cell_type": "code",
   "execution_count": 13,
   "id": "6b0da66a-805c-49de-8ad2-386398b17b10",
   "metadata": {},
   "outputs": [
    {
     "name": "stdout",
     "output_type": "stream",
     "text": [
      "[1 2 3 4 5 6 7 8]\n"
     ]
    }
   ],
   "source": [
    "arr1 = numpy.array([1,2,3,4])\n",
    "arr2 = numpy.array([5,6,7,8])\n",
    "\n",
    "combined = numpy.concatenate((arr1,arr2))\n",
    "print(combined)"
   ]
  },
  {
   "cell_type": "markdown",
   "id": "632abe6c-6ca1-4415-9c3b-e04d066187da",
   "metadata": {},
   "source": [
    "## Array compatibility\n"
   ]
  },
  {
   "cell_type": "code",
   "execution_count": 14,
   "id": "2872df54-f2c8-4823-a656-a0f396dec281",
   "metadata": {},
   "outputs": [
    {
     "name": "stdout",
     "output_type": "stream",
     "text": [
      "True\n"
     ]
    }
   ],
   "source": [
    "a = numpy.array([1,2])\n",
    "b = numpy.array([3,4])\n",
    "c = numpy.array([5,6])\n",
    "\n",
    "print(a.shape == b.shape)"
   ]
  },
  {
   "cell_type": "code",
   "execution_count": 24,
   "id": "18fa7e5a-7fea-4826-b0d7-157133db9d9c",
   "metadata": {},
   "outputs": [
    {
     "name": "stdout",
     "output_type": "stream",
     "text": [
      "[[1 2]\n",
      " [3 4]\n",
      " [5 6]]\n",
      "[[1 2 7]\n",
      " [3 4 8]]\n"
     ]
    }
   ],
   "source": [
    "original = numpy.array([[1,2],[3,4]])\n",
    "\n",
    "# row\n",
    "new_row = numpy.array([[5,6]])\n",
    "with_new_row = numpy.vstack((original, new_row))\n",
    "print(with_new_row)\n",
    "\n",
    "# column\n",
    "new_col = numpy.array([[7],[8]])\n",
    "with_new_col = numpy.hstack((original,new_col))\n",
    "print(with_new_col)"
   ]
  },
  {
   "cell_type": "code",
   "execution_count": 28,
   "id": "4442e1f3-102c-4f85-a573-7e61ca44f359",
   "metadata": {},
   "outputs": [
    {
     "name": "stdout",
     "output_type": "stream",
     "text": [
      "Deleted value [1 2 4 5 6 7 8]\n"
     ]
    }
   ],
   "source": [
    "arrr = numpy.array([1,2,3,4,5,6,7,8])\n",
    "deleted = numpy.delete(arrr, 2)\n",
    "print(deleted) # do not return a deleted value but a new updated array"
   ]
  },
  {
   "cell_type": "code",
   "execution_count": null,
   "id": "1b573a71-6917-4900-aebd-9eec8b152539",
   "metadata": {},
   "outputs": [],
   "source": []
  }
 ],
 "metadata": {
  "kernelspec": {
   "display_name": "Python 3 (ipykernel)",
   "language": "python",
   "name": "python3"
  },
  "language_info": {
   "codemirror_mode": {
    "name": "ipython",
    "version": 3
   },
   "file_extension": ".py",
   "mimetype": "text/x-python",
   "name": "python",
   "nbconvert_exporter": "python",
   "pygments_lexer": "ipython3",
   "version": "3.11.13"
  }
 },
 "nbformat": 4,
 "nbformat_minor": 5
}
