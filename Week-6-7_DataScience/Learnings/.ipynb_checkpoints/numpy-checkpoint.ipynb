{
 "cells": [
  {
   "cell_type": "code",
   "execution_count": null,
   "id": "40eb2327-840b-4f22-b064-d65009b57dba",
   "metadata": {},
   "outputs": [
    {
     "ename": "",
     "evalue": "",
     "output_type": "error",
     "traceback": [
      "\u001b[1;31mRunning cells with 'base (Python 3.13.5)' requires the ipykernel package.\n",
      "\u001b[1;31m<a href='command:jupyter.createPythonEnvAndSelectController'>Create a Python Environment</a> with the required packages.\n",
      "\u001b[1;31mOr install 'ipykernel' using the command: 'conda install -n base ipykernel --update-deps --force-reinstall'"
     ]
    }
   ],
   "source": [
    "import numpy as np"
   ]
  },
  {
   "cell_type": "markdown",
   "id": "52012b0c-2b1f-4493-9834-cb345f043c58",
   "metadata": {},
   "source": [
    "## 1D Array"
   ]
  },
  {
   "cell_type": "code",
   "execution_count": null,
   "id": "8cf4b329-03e6-4431-9b82-754b7a8407ee",
   "metadata": {},
   "outputs": [],
   "source": [
    "oneDArray = np.array([1, 2, 3, 4])\n",
    "print(oneDArray)"
   ]
  },
  {
   "cell_type": "markdown",
   "id": "68b7b03b-c8e2-4e2a-b485-86e4a957faaf",
   "metadata": {},
   "source": [
    "## 2D Array"
   ]
  },
  {
   "cell_type": "code",
   "execution_count": null,
   "id": "8a42cf15-9e95-4d96-a527-81834a04cdac",
   "metadata": {},
   "outputs": [],
   "source": [
    "twoDArray = np.array([[1,2,3,4],[4,5,6,7]])\n",
    "print(twoDArray)\n"
   ]
  },
  {
   "cell_type": "markdown",
   "id": "66ed4fe8-9ae1-4491-985e-991ee2445a04",
   "metadata": {},
   "source": [
    "### List Vs Numpy Array"
   ]
  },
  {
   "cell_type": "code",
   "execution_count": null,
   "id": "cb383960-c971-4301-9c49-961e73692041",
   "metadata": {},
   "outputs": [],
   "source": [
    "list =  [1,2,3,4] \n",
    "multList = list * 2 # double the items"
   ]
  },
  {
   "cell_type": "code",
   "execution_count": null,
   "id": "523f0f6a-50ba-4a7b-bd88-da6bea524135",
   "metadata": {},
   "outputs": [],
   "source": [
    "array = np.array([1, 2, 3, 4])\n",
    "multArray = array * 2 # element wise multiplication, numpy is way much faster then list"
   ]
  },
  {
   "cell_type": "code",
   "execution_count": null,
   "id": "16ccd23f-f081-401f-b5a1-bdad1f62f4d3",
   "metadata": {},
   "outputs": [],
   "source": [
    "# arange = np.arange(1000) \n",
    "# print(arange)"
   ]
  },
  {
   "cell_type": "markdown",
   "id": "961ada4f-a77a-4cee-bc7c-4823b037a629",
   "metadata": {},
   "source": [
    "## Creating array from scratch"
   ]
  },
  {
   "cell_type": "code",
   "execution_count": null,
   "id": "fc890559-f575-4ee8-8236-8ad942953495",
   "metadata": {},
   "outputs": [],
   "source": [
    "zeros = np.zeros((2,2)) # row and colum\n",
    "print(zeros)"
   ]
  },
  {
   "cell_type": "code",
   "execution_count": null,
   "id": "328393a2-3a52-49fd-acb9-9bb9740bed32",
   "metadata": {},
   "outputs": [],
   "source": [
    "ones = np.ones((2,2))\n",
    "print(ones)"
   ]
  },
  {
   "cell_type": "code",
   "execution_count": null,
   "id": "740ac714-149e-4088-a753-dcc27329a817",
   "metadata": {},
   "outputs": [],
   "source": [
    "full = np.full((2,2),10)\n",
    "print(full)"
   ]
  },
  {
   "cell_type": "code",
   "execution_count": null,
   "id": "a41776e4-5f7c-401a-b538-2c5035a4438c",
   "metadata": {},
   "outputs": [],
   "source": [
    "random = np.random.random((2,2))\n",
    "print(random)"
   ]
  },
  {
   "cell_type": "code",
   "execution_count": null,
   "id": "62237167-c3f2-49b3-9e6e-03d38cf21f59",
   "metadata": {},
   "outputs": [],
   "source": [
    "sequence = np.arange(0,10,2)\n",
    "print(sequence)"
   ]
  },
  {
   "cell_type": "markdown",
   "id": "dadc4488-1c8d-46a1-83de-6bc1d52724c3",
   "metadata": {},
   "source": [
    "## Vector, Metrix, Tensor\n"
   ]
  },
  {
   "cell_type": "code",
   "execution_count": null,
   "id": "2cff0b7e-0d66-49a0-afa2-0a549271000d",
   "metadata": {},
   "outputs": [],
   "source": [
    "vector = np.array([1,2,3,4]) \n",
    "print(vector)"
   ]
  },
  {
   "cell_type": "code",
   "execution_count": null,
   "id": "f59051bb-533b-4593-8132-13a246f796a3",
   "metadata": {},
   "outputs": [],
   "source": [
    "matrix = np.array([[1,2],[3,4]])\n",
    "print(matrix)"
   ]
  },
  {
   "cell_type": "code",
   "execution_count": null,
   "id": "5bb1e837-bff5-4c6b-afc2-811702b028f4",
   "metadata": {},
   "outputs": [],
   "source": [
    "tensor = np.array([[[1,2],[3,4]],\n",
    "                  [[5,6],[7,8]]])\n",
    "print(tensor)"
   ]
  },
  {
   "cell_type": "code",
   "execution_count": null,
   "id": "597f22ce-2f3f-4631-abde-7b6695ee7672",
   "metadata": {},
   "outputs": [],
   "source": []
  }
 ],
 "metadata": {
  "kernelspec": {
   "display_name": "base",
   "language": "python",
   "name": "python3"
  },
  "language_info": {
   "codemirror_mode": {
    "name": "ipython",
    "version": 3
   },
   "file_extension": ".py",
   "mimetype": "text/x-python",
   "name": "python",
   "nbconvert_exporter": "python",
   "pygments_lexer": "ipython3",
   "version": "3.13.5"
  }
 },
 "nbformat": 4,
 "nbformat_minor": 5
}
