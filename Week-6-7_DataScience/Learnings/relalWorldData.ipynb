{
 "cells": [
  {
   "cell_type": "code",
   "execution_count": 6,
   "id": "929bb19e-50c4-462b-992d-d09e84611929",
   "metadata": {},
   "outputs": [
    {
     "name": "stdout",
     "output_type": "stream",
     "text": [
      "==== Daraz sales nalysis ====\n",
      "\n",
      "Shape: (5, 5)\n",
      "[     1 150000 180000 220000 250000]\n",
      "[[     1 150000 180000 220000 250000]\n",
      " [     2 120000 140000 160000 190000]\n",
      " [     3 200000 230000 260000 300000]]\n"
     ]
    }
   ],
   "source": [
    "import numpy as np\n",
    "import matplotlib.pyplot as plt\n",
    "\n",
    "# Data structure: [restaurant_id, 2021, 2022, 2023, 2024]\n",
    "sales_data = np.array([\n",
    "    [1, 150000, 180000, 220000, 250000],  # Paradise Biryani\n",
    "    [2, 120000, 140000, 160000, 190000],  # Beijing Bites\n",
    "    [3, 200000, 230000, 260000, 300000],  # Pizza Hub\n",
    "    [4, 180000, 210000, 240000, 270000],  # Burger Point\n",
    "    [5, 160000, 185000, 205000, 230000]   # Chai Point\n",
    "])\n",
    "\n",
    "print(\"==== Daraz sales nalysis ====\")\n",
    "print(\"\\nShape:\", sales_data.shape) # checking shape\n",
    "print(sales_data[0]) # greeting first resturent data \n",
    "print(sales_data[:3]) # greeting first 3 resturent data\n",
    "\n"
   ]
  },
  {
   "cell_type": "code",
   "execution_count": 8,
   "id": "91cfba65-0d09-42f5-a8f7-9b0a1fea6f86",
   "metadata": {},
   "outputs": [
    {
     "ename": "SyntaxError",
     "evalue": "invalid syntax (745753197.py, line 4)",
     "output_type": "error",
     "traceback": [
      "  \u001b[36mCell\u001b[39m\u001b[36m \u001b[39m\u001b[32mIn[8]\u001b[39m\u001b[32m, line 4\u001b[39m\n\u001b[31m    \u001b[39m\u001b[31mprint(np.)\u001b[39m\n             ^\n\u001b[31mSyntaxError\u001b[39m\u001b[31m:\u001b[39m invalid syntax\n"
     ]
    }
   ],
   "source": [
    "# total sales per year\n",
    "print(np.sum(sales_data, axis = 0))\n",
    "# yearly total \n",
    "print(np.)"
   ]
  },
  {
   "cell_type": "code",
   "execution_count": null,
   "id": "df27b120-3385-4dcd-89a5-4a5a724148c6",
   "metadata": {},
   "outputs": [],
   "source": [
    " "
   ]
  }
 ],
 "metadata": {
  "kernelspec": {
   "display_name": "Python 3 (ipykernel)",
   "language": "python",
   "name": "python3"
  },
  "language_info": {
   "codemirror_mode": {
    "name": "ipython",
    "version": 3
   },
   "file_extension": ".py",
   "mimetype": "text/x-python",
   "name": "python",
   "nbconvert_exporter": "python",
   "pygments_lexer": "ipython3",
   "version": "3.11.13"
  }
 },
 "nbformat": 4,
 "nbformat_minor": 5
}
