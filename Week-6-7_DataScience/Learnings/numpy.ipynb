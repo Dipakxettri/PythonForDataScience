{
 "cells": [
  {
   "cell_type": "code",
   "execution_count": 2,
   "id": "40eb2327-840b-4f22-b064-d65009b57dba",
   "metadata": {},
   "outputs": [],
   "source": [
    "import numpy as np"
   ]
  },
  {
   "cell_type": "markdown",
   "id": "52012b0c-2b1f-4493-9834-cb345f043c58",
   "metadata": {},
   "source": [
    "## 1D Array"
   ]
  },
  {
   "cell_type": "code",
   "execution_count": 3,
   "id": "8cf4b329-03e6-4431-9b82-754b7a8407ee",
   "metadata": {},
   "outputs": [
    {
     "name": "stdout",
     "output_type": "stream",
     "text": [
      "[1 2 3 4]\n"
     ]
    }
   ],
   "source": [
    "oneDArray = np.array([1, 2, 3, 4])\n",
    "print(oneDArray)"
   ]
  },
  {
   "cell_type": "markdown",
   "id": "68b7b03b-c8e2-4e2a-b485-86e4a957faaf",
   "metadata": {},
   "source": [
    "## 2D Array"
   ]
  },
  {
   "cell_type": "code",
   "execution_count": 4,
   "id": "8a42cf15-9e95-4d96-a527-81834a04cdac",
   "metadata": {},
   "outputs": [
    {
     "name": "stdout",
     "output_type": "stream",
     "text": [
      "[[1 2 3 4]\n",
      " [4 5 6 7]]\n"
     ]
    }
   ],
   "source": [
    "twoDArray = np.array([[1,2,3,4],[4,5,6,7]])\n",
    "print(twoDArray)\n"
   ]
  },
  {
   "cell_type": "markdown",
   "id": "66ed4fe8-9ae1-4491-985e-991ee2445a04",
   "metadata": {},
   "source": [
    "### List Vs Numpy Array"
   ]
  },
  {
   "cell_type": "code",
   "execution_count": null,
   "id": "cb383960-c971-4301-9c49-961e73692041",
   "metadata": {},
   "outputs": [],
   "source": [
    "list =  [1,2,3,4] \n",
    "multList = list * 2 # double the items"
   ]
  },
  {
   "cell_type": "code",
   "execution_count": null,
   "id": "523f0f6a-50ba-4a7b-bd88-da6bea524135",
   "metadata": {},
   "outputs": [],
   "source": [
    "array = np.array([1, 2, 3, 4])\n",
    "multArray = array * 2 # element wise multiplication, numpy is way much faster then list"
   ]
  },
  {
   "cell_type": "code",
   "execution_count": null,
   "id": "16ccd23f-f081-401f-b5a1-bdad1f62f4d3",
   "metadata": {},
   "outputs": [],
   "source": [
    "# arange = np.arange(1000) \n",
    "# print(arange)"
   ]
  },
  {
   "cell_type": "markdown",
   "id": "961ada4f-a77a-4cee-bc7c-4823b037a629",
   "metadata": {},
   "source": [
    "## Creating array from scratch"
   ]
  },
  {
   "cell_type": "code",
   "execution_count": null,
   "id": "fc890559-f575-4ee8-8236-8ad942953495",
   "metadata": {},
   "outputs": [],
   "source": [
    "zeros = np.zeros((2,2)) # row and colum\n",
    "print(zeros)"
   ]
  },
  {
   "cell_type": "code",
   "execution_count": null,
   "id": "328393a2-3a52-49fd-acb9-9bb9740bed32",
   "metadata": {},
   "outputs": [],
   "source": [
    "ones = np.ones((2,2))\n",
    "print(ones)"
   ]
  },
  {
   "cell_type": "code",
   "execution_count": 24,
   "id": "740ac714-149e-4088-a753-dcc27329a817",
   "metadata": {},
   "outputs": [
    {
     "name": "stdout",
     "output_type": "stream",
     "text": [
      "[[10 10]\n",
      " [10 10]]\n"
     ]
    }
   ],
   "source": [
    "full = np.full((2,2),10)\n",
    "print(full)"
   ]
  },
  {
   "cell_type": "code",
   "execution_count": 25,
   "id": "a41776e4-5f7c-401a-b538-2c5035a4438c",
   "metadata": {},
   "outputs": [
    {
     "name": "stdout",
     "output_type": "stream",
     "text": [
      "[[0.83209749 0.86251688]\n",
      " [0.27312193 0.2628844 ]]\n"
     ]
    }
   ],
   "source": [
    "random = np.random.random((2,2))\n",
    "print(random)"
   ]
  },
  {
   "cell_type": "code",
   "execution_count": null,
   "id": "62237167-c3f2-49b3-9e6e-03d38cf21f59",
   "metadata": {},
   "outputs": [],
   "source": [
    "sequence = np.arange(0,10,2)\n",
    "print(sequence)"
   ]
  },
  {
   "cell_type": "markdown",
   "id": "dadc4488-1c8d-46a1-83de-6bc1d52724c3",
   "metadata": {},
   "source": [
    "## Vector, Metrix, Tensor\n"
   ]
  },
  {
   "cell_type": "code",
   "execution_count": null,
   "id": "2cff0b7e-0d66-49a0-afa2-0a549271000d",
   "metadata": {},
   "outputs": [],
   "source": [
    "vector = np.array([1,2,3,4]) \n",
    "print(vector)"
   ]
  },
  {
   "cell_type": "code",
   "execution_count": null,
   "id": "f59051bb-533b-4593-8132-13a246f796a3",
   "metadata": {},
   "outputs": [],
   "source": [
    "matrix = np.array([[1,2],[3,4]])\n",
    "print(matrix)"
   ]
  },
  {
   "cell_type": "code",
   "execution_count": null,
   "id": "5bb1e837-bff5-4c6b-afc2-811702b028f4",
   "metadata": {},
   "outputs": [],
   "source": [
    "tensor = np.array([[[1,2],[3,4]],\n",
    "                  [[5,6],[7,8]]])\n",
    "print(tensor)"
   ]
  },
  {
   "cell_type": "markdown",
   "id": "ea093982-44c5-4918-b4db-242344a126e2",
   "metadata": {},
   "source": [
    "## Array Proprties"
   ]
  },
  {
   "cell_type": "code",
   "execution_count": 5,
   "id": "ba82aa19-236c-458f-bd5a-7fd172166a2d",
   "metadata": {},
   "outputs": [
    {
     "name": "stdout",
     "output_type": "stream",
     "text": [
      "(2, 2)\n"
     ]
    }
   ],
   "source": [
    "arr = np.array([[1,2],[3,4]])\n",
    "\n",
    "print(arr.shape) # Shape"
   ]
  },
  {
   "cell_type": "code",
   "execution_count": 6,
   "id": "4db16a52-2d87-4723-bb9e-23ebba10acc5",
   "metadata": {},
   "outputs": [
    {
     "name": "stdout",
     "output_type": "stream",
     "text": [
      "2\n"
     ]
    }
   ],
   "source": [
    "print(arr.ndim) # diamantions"
   ]
  },
  {
   "cell_type": "code",
   "execution_count": 7,
   "id": "919e57d8-fe7f-4f84-88ec-73186ef828b2",
   "metadata": {},
   "outputs": [
    {
     "name": "stdout",
     "output_type": "stream",
     "text": [
      "4\n"
     ]
    }
   ],
   "source": [
    "print(arr.size) # size (no of elements)"
   ]
  },
  {
   "cell_type": "code",
   "execution_count": 8,
   "id": "16f23a5e-9950-403a-927d-0e7121cbaf8a",
   "metadata": {},
   "outputs": [
    {
     "name": "stdout",
     "output_type": "stream",
     "text": [
      "int64\n"
     ]
    }
   ],
   "source": [
    "print(arr.dtype)"
   ]
  },
  {
   "cell_type": "markdown",
   "id": "beb1f890-81c3-4f1e-9090-6e9cdb4fdfeb",
   "metadata": {},
   "source": [
    "## Array Reshaping "
   ]
  },
  {
   "cell_type": "code",
   "execution_count": 15,
   "id": "419c8675-3074-4ad5-abd3-7ea45b40eb78",
   "metadata": {},
   "outputs": [
    {
     "name": "stdout",
     "output_type": "stream",
     "text": [
      "[ 0  1  2  3  4  5  6  7  8  9 10 11]\n"
     ]
    }
   ],
   "source": [
    "arr = np.arange(12)\n",
    "print(arr)"
   ]
  },
  {
   "cell_type": "code",
   "execution_count": 19,
   "id": "01d02a35-4fe9-4f06-aa28-e172e0971d9b",
   "metadata": {},
   "outputs": [
    {
     "name": "stdout",
     "output_type": "stream",
     "text": [
      "[[ 0  1  2  3]\n",
      " [ 4  5  6  7]\n",
      " [ 8  9 10 11]]\n"
     ]
    }
   ],
   "source": [
    "reshaped = arr.reshape((3,4)) # reshape\n",
    "print(reshaped)"
   ]
  },
  {
   "cell_type": "code",
   "execution_count": 20,
   "id": "e92dec1c-adf8-4b87-8507-b11ca5a4fd15",
   "metadata": {},
   "outputs": [
    {
     "name": "stdout",
     "output_type": "stream",
     "text": [
      "[ 0  1  2  3  4  5  6  7  8  9 10 11]\n"
     ]
    }
   ],
   "source": [
    "flattened = reshaped.flatten() # flat\n",
    "print(flattened)"
   ]
  },
  {
   "cell_type": "code",
   "execution_count": 22,
   "id": "fa7859e6-c061-4478-8884-2b110135df8d",
   "metadata": {},
   "outputs": [
    {
     "name": "stdout",
     "output_type": "stream",
     "text": [
      "[ 0  1  2  3  4  5  6  7  8  9 10 11]\n"
     ]
    }
   ],
   "source": [
    "raveled = reshaped.ravel() # ravel (looks same as flat but it returns view/orignal insted of copy)\n",
    "print(raveled)"
   ]
  },
  {
   "cell_type": "code",
   "execution_count": 26,
   "id": "9195ed0f-5544-40de-8624-7fc797f1c4f3",
   "metadata": {},
   "outputs": [
    {
     "name": "stdout",
     "output_type": "stream",
     "text": [
      "[[ 0  4  8]\n",
      " [ 1  5  9]\n",
      " [ 2  6 10]\n",
      " [ 3  7 11]]\n"
     ]
    }
   ],
   "source": [
    "transposed =  reshaped.T\n",
    "print(transposed)"
   ]
  }
 ],
 "metadata": {
  "kernelspec": {
   "display_name": "Python 3 (ipykernel)",
   "language": "python",
   "name": "python3"
  },
  "language_info": {
   "codemirror_mode": {
    "name": "ipython",
    "version": 3
   },
   "file_extension": ".py",
   "mimetype": "text/x-python",
   "name": "python",
   "nbconvert_exporter": "python",
   "pygments_lexer": "ipython3",
   "version": "3.11.13"
  }
 },
 "nbformat": 4,
 "nbformat_minor": 5
}
